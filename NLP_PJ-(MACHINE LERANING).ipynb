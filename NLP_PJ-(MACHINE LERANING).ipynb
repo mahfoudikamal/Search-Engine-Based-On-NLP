{
 "cells": [
  {
   "cell_type": "markdown",
   "metadata": {
    "_cell_guid": "82d0bd9a-ee64-48c0-9c3c-89944551d345",
    "_uuid": "d15a3160-9b5c-4334-98cd-e097d73bc8b5"
   },
   "source": [
    "# Inverse indexing, index search¶"
   ]
  },
  {
   "cell_type": "markdown",
   "metadata": {
    "_cell_guid": "e60b5233-b14b-4654-9b81-1b6d83f287c0",
    "_uuid": "f9a61e76-fa14-4c6f-ac42-542d8a8bc2ad"
   },
   "source": [
    "##  Get Ready the documents/webpages"
   ]
  },
  {
   "cell_type": "code",
   "execution_count": 1,
   "metadata": {},
   "outputs": [
    {
     "data": {
      "text/html": [
       "<script>\n",
       "code_show=true; \n",
       "function code_toggle() {\n",
       " if (code_show){\n",
       " $('div.input').hide();\n",
       " } else {\n",
       " $('div.input').show();\n",
       " }\n",
       " code_show = !code_show\n",
       "} \n",
       "$( document ).ready(code_toggle);\n",
       "</script>\n",
       "<form action=\"javascript:code_toggle()\"><input type=\"submit\" value=\"Click here to toggle on/off the raw code.\"></form>"
      ],
      "text/plain": [
       "<IPython.core.display.HTML object>"
      ]
     },
     "execution_count": 1,
     "metadata": {},
     "output_type": "execute_result"
    }
   ],
   "source": [
    "from IPython.display import HTML\n",
    "\n",
    "HTML('''<script>\n",
    "code_show=true; \n",
    "function code_toggle() {\n",
    " if (code_show){\n",
    " $('div.input').hide();\n",
    " } else {\n",
    " $('div.input').show();\n",
    " }\n",
    " code_show = !code_show\n",
    "} \n",
    "$( document ).ready(code_toggle);\n",
    "</script>\n",
    "<form action=\"javascript:code_toggle()\"><input type=\"submit\" value=\"Click here to toggle on/off the raw code.\"></form>''')\n",
    "\n",
    "\n"
   ]
  },
  {
   "cell_type": "code",
   "execution_count": 2,
   "metadata": {},
   "outputs": [
    {
     "name": "stdout",
     "output_type": "stream",
     "text": [
      "---- > Load libs\n"
     ]
    }
   ],
   "source": [
    "print('---- > Load libs')"
   ]
  },
  {
   "cell_type": "code",
   "execution_count": 3,
   "metadata": {
    "_cell_guid": "d673ef27-5ce1-4267-9b0c-4fc72328f8a6",
    "_uuid": "31c2ce6b-6740-44b0-8941-db5f54901e3e"
   },
   "outputs": [],
   "source": [
    "# Load libs\n",
    "\n",
    "import pandas as pd\n",
    "import numpy as np \n",
    "import string\n",
    "import random\n",
    "\n",
    "import nltk\n",
    "\n",
    "from nltk.corpus import reuters\n",
    "\n",
    "from nltk.tokenize import word_tokenize\n",
    "from nltk.tokenize import RegexpTokenizer\n",
    "\n",
    "from nltk.corpus import stopwords\n",
    "\n",
    "from nltk.stem.porter import PorterStemmer\n",
    "from nltk.stem import SnowballStemmer\n",
    "import pandas as pd\n"
   ]
  },
  {
   "cell_type": "code",
   "execution_count": 4,
   "metadata": {},
   "outputs": [
    {
     "name": "stdout",
     "output_type": "stream",
     "text": [
      "---- > check DataSet elements number\n"
     ]
    }
   ],
   "source": [
    "print('---- > check DataSet elements number')"
   ]
  },
  {
   "cell_type": "code",
   "execution_count": 5,
   "metadata": {
    "_cell_guid": "4ee70919-4d2a-4ad0-b9e3-de51d4c862f6",
    "_uuid": "ccb574aa-0b05-444d-9b01-143ee8f155a5"
   },
   "outputs": [
    {
     "data": {
      "text/plain": [
       "232"
      ]
     },
     "execution_count": 5,
     "metadata": {},
     "output_type": "execute_result"
    }
   ],
   "source": [
    "#check Length DataSet Fieled\n",
    "len(reuters.fileids())"
   ]
  },
  {
   "cell_type": "code",
   "execution_count": 6,
   "metadata": {
    "_cell_guid": "c310fb37-0eaa-4f94-90c2-c39c1df597b7",
    "_uuid": "0675d426-8fd1-44ba-9232-f8daff5f5f95"
   },
   "outputs": [
    {
     "name": "stdout",
     "output_type": "stream",
     "text": [
      "<class 'list'>\n"
     ]
    }
   ],
   "source": [
    "#check Type DS\n",
    "print(type(reuters.fileids()[:10]))"
   ]
  },
  {
   "cell_type": "code",
   "execution_count": 7,
   "metadata": {},
   "outputs": [
    {
     "name": "stdout",
     "output_type": "stream",
     "text": [
      "---- > Trying see first element\n"
     ]
    }
   ],
   "source": [
    "print('---- > Trying see first element')"
   ]
  },
  {
   "cell_type": "code",
   "execution_count": 8,
   "metadata": {
    "_cell_guid": "62a6ddaa-dcbf-406f-940c-abe043fbc29a",
    "_uuid": "0653b159-104d-495e-b742-6972706fe751"
   },
   "outputs": [
    {
     "data": {
      "text/plain": [
       "'Cafe caen\\n  https://www.pagesjaunes.fr/pros/detail?bloc_id=0231866364071615730001C0001\\n\" '"
      ]
     },
     "execution_count": 8,
     "metadata": {},
     "output_type": "execute_result"
    }
   ],
   "source": [
    "#view text from one document \n",
    "reuters.raw(fileids=['test/1'])[0:89]"
   ]
  },
  {
   "cell_type": "code",
   "execution_count": 9,
   "metadata": {},
   "outputs": [
    {
     "name": "stdout",
     "output_type": "stream",
     "text": [
      "---- > remove punctuation\n"
     ]
    }
   ],
   "source": [
    "print('---- > remove punctuation')"
   ]
  },
  {
   "cell_type": "code",
   "execution_count": 10,
   "metadata": {
    "_cell_guid": "afd0f116-1c28-4e9e-91de-60159ed612b0",
    "_uuid": "31bc434f-63a4-49fd-a83a-e2f2b5212abc"
   },
   "outputs": [
    {
     "name": "stdout",
     "output_type": "stream",
     "text": [
      "Cafe caen\n",
      "  https://www.pagesjaunes.fr/pros/detail?bloc_id=0231866364071615730001C0001\n",
      "  Niche dans les jardins de la cour intĂŠrieure du chateau de Caen et communicant avec le Musee des Beaux Arts notre restaurant avec terrasse vous fait partager des soirees musicales  Vous dĂŠgusterez une cuisine actuelle et gastronomique Les suggestions du chef sont  la cocotte de SaintJacques  endives et emulsion de mandarines a 1050 Euro le croquant de caille avec salade champignons et son jus aux airelles a 12 Euro et la terrine de foie gras de canard a 14 Euro En plat retrouvez notre spĂŠcialitĂŠ  la tripe de Caen   Retrouveznous sur notre site internet et notre page Facebook \n",
      "\n"
     ]
    }
   ],
   "source": [
    "# remove punctuation from all DOCs \n",
    "exclude = set(string.punctuation)\n",
    "exclude = [\";\",\"!\",\"\\\\\",\",\",\"#\",\"@\",\"$\",\"&\",\",\",\"``\",\"''\",\")\",\"(\",\"\\\"\"]\n",
    "alldocslist = []\n",
    "#print(reuters)\n",
    "for index, i in  enumerate(reuters.fileids()):\n",
    "    text = reuters.raw(fileids=[i])\n",
    "    text = ''.join(ch for ch in text if ch not in exclude)\n",
    "    alldocslist.append(text)\n",
    "    \n",
    "print(alldocslist[1])"
   ]
  },
  {
   "cell_type": "code",
   "execution_count": 11,
   "metadata": {},
   "outputs": [
    {
     "name": "stdout",
     "output_type": "stream",
     "text": [
      "---- > tokenize words\n"
     ]
    }
   ],
   "source": [
    "print('---- > tokenize words')"
   ]
  },
  {
   "cell_type": "code",
   "execution_count": 12,
   "metadata": {
    "_cell_guid": "a35cbc59-c21a-430f-9521-4da4f489cf54",
    "_uuid": "d398a8d8-c8c9-429c-9662-cbe7412b766b"
   },
   "outputs": [
    {
     "name": "stdout",
     "output_type": "stream",
     "text": [
      "['Cafe', 'caen', 'https', ':', '//www.pagesjaunes.fr/pros/detail', '?', 'bloc_id=0231866364071615730001C0001', 'Niche', 'dans', 'les', 'jardins', 'de', 'la', 'cour', 'intĂŠrieure', 'du', 'chateau', 'de', 'Caen', 'et', 'communicant', 'avec', 'le', 'Musee', 'des', 'Beaux', 'Arts', 'notre', 'restaurant', 'avec', 'terrasse', 'vous', 'fait', 'partager', 'des', 'soirees', 'musicales', 'Vous', 'dĂŠgusterez', 'une', 'cuisine', 'actuelle', 'et', 'gastronomique', 'Les', 'suggestions', 'du', 'chef', 'sont', 'la', 'cocotte', 'de', 'SaintJacques', 'endives', 'et', 'emulsion', 'de', 'mandarines', 'a', '1050', 'Euro', 'le', 'croquant', 'de', 'caille', 'avec', 'salade', 'champignons', 'et', 'son', 'jus', 'aux', 'airelles', 'a', '12', 'Euro', 'et', 'la', 'terrine', 'de', 'foie', 'gras', 'de', 'canard', 'a', '14', 'Euro', 'En', 'plat', 'retrouvez', 'notre', 'spĂŠcialitĂŠ', 'la', 'tripe', 'de', 'Caen', 'Retrouveznous', 'sur', 'notre', 'site', 'internet', 'et', 'notre', 'page', 'Facebook']\n"
     ]
    }
   ],
   "source": [
    "#tokenize words in all DOCS \n",
    "plot_data = [[]] * len(alldocslist)\n",
    "\n",
    "for doc in alldocslist:\n",
    "    text = doc\n",
    "    tokentext = word_tokenize(text)\n",
    "    plot_data[index].append(tokentext)\n",
    "    \n",
    "print(plot_data[0][1])"
   ]
  },
  {
   "cell_type": "code",
   "execution_count": 13,
   "metadata": {},
   "outputs": [
    {
     "name": "stdout",
     "output_type": "stream",
     "text": [
      "[0][1][2]\n"
     ]
    }
   ],
   "source": [
    "print('[0][1][2]')"
   ]
  },
  {
   "cell_type": "code",
   "execution_count": 14,
   "metadata": {
    "_cell_guid": "40f61887-e466-4fba-a6c5-29f6f44d0e6f",
    "_uuid": "3e0c4856-9d25-4a9e-aaf5-b87b64c4a02d"
   },
   "outputs": [
    {
     "data": {
      "text/plain": [
       "'https'"
      ]
     },
     "execution_count": 14,
     "metadata": {},
     "output_type": "execute_result"
    }
   ],
   "source": [
    "# Navigation: first index gives all documents, second index gives specific document, third index gives words of that doc\n",
    "plot_data[0][1][2]"
   ]
  },
  {
   "cell_type": "code",
   "execution_count": 15,
   "metadata": {},
   "outputs": [
    {
     "name": "stdout",
     "output_type": "stream",
     "text": [
      "---- > all words lower\n"
     ]
    }
   ],
   "source": [
    "print('---- > all words lower')"
   ]
  },
  {
   "cell_type": "code",
   "execution_count": 16,
   "metadata": {
    "_cell_guid": "491172ed-3848-4de6-897c-66602f6f9ec2",
    "_uuid": "9a0c8a15-dc68-4493-9883-ce4979a51f37"
   },
   "outputs": [
    {
     "data": {
      "text/plain": [
       "['cafe',\n",
       " 'caen',\n",
       " 'https',\n",
       " ':',\n",
       " '//www.pagesjaunes.fr/pros/detail',\n",
       " '?',\n",
       " 'bloc_id=0231866364071615730001c0001',\n",
       " 'niche',\n",
       " 'dans',\n",
       " 'les',\n",
       " 'jardins',\n",
       " 'de',\n",
       " 'la',\n",
       " 'cour',\n",
       " 'intăšrieure',\n",
       " 'du',\n",
       " 'chateau',\n",
       " 'de',\n",
       " 'caen',\n",
       " 'et',\n",
       " 'communicant',\n",
       " 'avec',\n",
       " 'le',\n",
       " 'musee',\n",
       " 'des',\n",
       " 'beaux',\n",
       " 'arts',\n",
       " 'notre',\n",
       " 'restaurant',\n",
       " 'avec']"
      ]
     },
     "execution_count": 16,
     "metadata": {},
     "output_type": "execute_result"
    }
   ],
   "source": [
    "\n",
    "#make all words lower case for all docs \n",
    "for x in range(len(reuters.fileids())):\n",
    "    lowers = [word.lower() for word in plot_data[0][x]]\n",
    "    plot_data[0][x] = lowers\n",
    "\n",
    "plot_data[0][1][0:30]"
   ]
  },
  {
   "cell_type": "code",
   "execution_count": 17,
   "metadata": {},
   "outputs": [
    {
     "name": "stdout",
     "output_type": "stream",
     "text": [
      "---- > stop words from all docs French\n"
     ]
    }
   ],
   "source": [
    "print('---- > stop words from all docs French')"
   ]
  },
  {
   "cell_type": "code",
   "execution_count": 18,
   "metadata": {
    "_cell_guid": "937a5680-cd1d-452e-bf85-0c396b066f5e",
    "_uuid": "282e451c-0f16-4100-9291-be5b6c287d33"
   },
   "outputs": [
    {
     "data": {
      "text/plain": [
       "['cafe',\n",
       " 'caen',\n",
       " 'https',\n",
       " ':',\n",
       " '//www.pagesjaunes.fr/pros/detail',\n",
       " '?',\n",
       " 'bloc_id=0231866364071615730001c0001',\n",
       " 'niche',\n",
       " 'jardins',\n",
       " 'cour',\n",
       " 'intăšrieure',\n",
       " 'chateau',\n",
       " 'caen',\n",
       " 'communicant',\n",
       " 'musee',\n",
       " 'beaux',\n",
       " 'arts',\n",
       " 'restaurant',\n",
       " 'terrasse',\n",
       " 'fait',\n",
       " 'partager',\n",
       " 'soirees',\n",
       " 'musicales',\n",
       " 'dăšgusterez',\n",
       " 'cuisine',\n",
       " 'actuelle',\n",
       " 'gastronomique',\n",
       " 'suggestions',\n",
       " 'chef',\n",
       " 'cocotte',\n",
       " 'saintjacques',\n",
       " 'endives',\n",
       " 'emulsion',\n",
       " 'mandarines',\n",
       " 'a',\n",
       " '1050',\n",
       " 'euro',\n",
       " 'croquant',\n",
       " 'caille',\n",
       " 'salade',\n",
       " 'champignons',\n",
       " 'jus',\n",
       " 'airelles',\n",
       " 'a',\n",
       " '12',\n",
       " 'euro',\n",
       " 'terrine',\n",
       " 'foie',\n",
       " 'gras',\n",
       " 'canard',\n",
       " 'a',\n",
       " '14',\n",
       " 'euro',\n",
       " 'plat',\n",
       " 'retrouvez',\n",
       " 'spăšcialităš',\n",
       " 'tripe',\n",
       " 'caen',\n",
       " 'retrouveznous',\n",
       " 'site',\n",
       " 'internet',\n",
       " 'page',\n",
       " 'facebook']"
      ]
     },
     "execution_count": 18,
     "metadata": {},
     "output_type": "execute_result"
    }
   ],
   "source": [
    "# remove stop words from all docs \n",
    "stop_words = set(stopwords.words('french'))\n",
    "\n",
    "for x in range(len(reuters.fileids())):\n",
    "    filtered_sentence = [w for w in plot_data[0][x] if not w in stop_words]\n",
    "    plot_data[0][x] = filtered_sentence\n",
    "\n",
    "plot_data[0][1][0:100]"
   ]
  },
  {
   "cell_type": "code",
   "execution_count": 19,
   "metadata": {},
   "outputs": [
    {
     "name": "stdout",
     "output_type": "stream",
     "text": [
      "---- > stemmed_sentence,words\n"
     ]
    }
   ],
   "source": [
    "print('---- > stemmed_sentence,words')"
   ]
  },
  {
   "cell_type": "code",
   "execution_count": 20,
   "metadata": {
    "_cell_guid": "b9d0bf84-058f-4b13-b1ed-7c9072bea94d",
    "_uuid": "11065340-1850-4f25-bbc7-48fadefcfa41"
   },
   "outputs": [
    {
     "data": {
      "text/plain": [
       "['pancak',\n",
       " 'night',\n",
       " 'fever',\n",
       " 'http',\n",
       " ':',\n",
       " '//www.pagesjaunes.fr/pros/detail',\n",
       " '?',\n",
       " 'bloc_id=023180708255703339h001c0001',\n",
       " '[',\n",
       " ']']"
      ]
     },
     "execution_count": 20,
     "metadata": {},
     "output_type": "execute_result"
    }
   ],
   "source": [
    "#stem words EXAMPLE (could try others/lemmers )\n",
    "\n",
    "snowball_stemmer = SnowballStemmer(\"french\")\n",
    "stemmed_sentence = [snowball_stemmer.stem(w) for w in filtered_sentence]\n",
    "stemmed_sentence[0:10]\n",
    "\n",
    "porter_stemmer = PorterStemmer()\n",
    "snowball_stemmer = SnowballStemmer(\"french\")\n",
    "stemmed_sentence = [ porter_stemmer.stem(w) for w in filtered_sentence]\n",
    "stemmed_sentence[0:20]"
   ]
  },
  {
   "cell_type": "markdown",
   "metadata": {
    "_cell_guid": "f340668e-689a-461b-becd-b94bf6f50313",
    "_uuid": "ef48044b-ccee-4f90-bfe5-2444ecf27edc"
   },
   "source": [
    "#  CREATING THE INVERSE-INDEX"
   ]
  },
  {
   "cell_type": "code",
   "execution_count": 21,
   "metadata": {},
   "outputs": [
    {
     "name": "stdout",
     "output_type": "stream",
     "text": [
      "---- > inverse index gives document number for each document and where word appears i need create a list of all words \n"
     ]
    }
   ],
   "source": [
    "print('---- > inverse index gives document number for each document and where word appears i need create a list of all words ')"
   ]
  },
  {
   "cell_type": "code",
   "execution_count": 22,
   "metadata": {
    "_cell_guid": "8614cb33-3273-4468-af76-feae2c8f45ba",
    "_uuid": "87e3fbd4-788e-4725-9636-b5dc5b674b1c"
   },
   "outputs": [],
   "source": [
    "# Create inverse index which gives document number for each document and where word appears\n",
    "\n",
    "#first we need to create a list of all words \n",
    "l = plot_data[0]\n",
    "flatten = [item for sublist in l for item in sublist]\n",
    "words = flatten\n",
    "wordsunique = set(words)\n",
    "wordsunique = list(wordsunique)\n"
   ]
  },
  {
   "cell_type": "code",
   "execution_count": 23,
   "metadata": {},
   "outputs": [
    {
     "name": "stdout",
     "output_type": "stream",
     "text": [
      "---- > TF - n_containing-tfidf-idf Word <---> doclist\n"
     ]
    }
   ],
   "source": [
    "print('---- > TF - n_containing-tfidf-idf Word <---> doclist')"
   ]
  },
  {
   "cell_type": "code",
   "execution_count": 24,
   "metadata": {
    "_cell_guid": "be5250b4-2dc7-47af-a9b1-acc650579d81",
    "_uuid": "8e775a4f-40c1-476a-acf8-0bbd05f2f56f"
   },
   "outputs": [],
   "source": [
    "# create functions for TD-IDF / BM25\n",
    "import math\n",
    "\n",
    "\n",
    "def tf(word, doc):\n",
    "    return doc.count(word) / len(doc)\n",
    "\n",
    "def n_containing(word, doclist):\n",
    "    return sum(1 for doc in doclist if word in doc)\n",
    "\n",
    "def idf(word, doclist):\n",
    "    return math.log(len(doclist) / (0.01 + n_containing(word, doclist)))\n",
    "\n",
    "def tfidf(word, doc, doclist):\n",
    "    return (tf(word, doc) * idf(word, doclist))"
   ]
  },
  {
   "cell_type": "code",
   "execution_count": 25,
   "metadata": {},
   "outputs": [
    {
     "name": "stdout",
     "output_type": "stream",
     "text": [
      "---- > Create dictonary of words Take time to generate the \"worddic_1000.npy\"\n"
     ]
    }
   ],
   "source": [
    "print('---- > Create dictonary of words Take time to generate the \"worddic_1000.npy\"')"
   ]
  },
  {
   "cell_type": "code",
   "execution_count": 26,
   "metadata": {
    "_cell_guid": "887b486c-77f9-46c1-9c4b-5612f218f428",
    "_uuid": "01bc664d-f7a9-4c83-856f-95de9834e096"
   },
   "outputs": [],
   "source": [
    "# Create dictonary of words\n",
    "# THIS ONE-TIME INDEXING IS THE MOST PROCESSOR-INTENSIVE STEP AND WILL TAKE TIME TO RUN (BUT ONLY NEEDS TO BE RUN ONCE)\n",
    "import re\n",
    "import numpy as np\n",
    "\n",
    "plottest = plot_data[0][0:1000]\n",
    "\n",
    "\n",
    "worddic = {}\n",
    "\n",
    "for doc in plottest:\n",
    "    for word in wordsunique:\n",
    "        if word in doc:\n",
    "            word = (word)\n",
    "            index = plottest.index(doc)\n",
    "            positions = list(np.where(np.array(plottest[index]) == word)[0])\n",
    "            idfs = tfidf(word,doc,plottest)\n",
    "            try:\n",
    "                worddic[word].append([index,positions,idfs])\n",
    "            except:\n",
    "                worddic[word] = []\n",
    "                worddic[word].append([index,positions,idfs])\n",
    "   # print('ended')"
   ]
  },
  {
   "cell_type": "code",
   "execution_count": 27,
   "metadata": {},
   "outputs": [
    {
     "name": "stdout",
     "output_type": "stream",
     "text": [
      "---- > here a Dic for \"cafe\"as KEY : List doc indexs - word positions - td-idf score\n"
     ]
    }
   ],
   "source": [
    "print('---- > here a Dic for \"cafe\"as KEY : List doc indexs - word positions - td-idf score')"
   ]
  },
  {
   "cell_type": "code",
   "execution_count": 28,
   "metadata": {
    "_cell_guid": "074b36ca-269a-48b0-86a4-7b1379fcb925",
    "_uuid": "43ef2edd-a4a0-47b0-8a8c-3055c4ca135a"
   },
   "outputs": [
    {
     "data": {
      "text/plain": [
       "[[1, [0], 0.04455501605265705],\n",
       " [9, [0], 0.04455501605265705],\n",
       " [11, [0], 0.05728502063913049],\n",
       " [15, [0], 0.09356553371057981],\n",
       " [11, [0], 0.05728502063913049],\n",
       " [35, [0], 0.31188511236859934],\n",
       " [15, [0], 0.09356553371057981],\n",
       " [53, [0], 0.31188511236859934],\n",
       " [112, [3], 0.11227864045269577],\n",
       " [116, [0], 0.31188511236859934],\n",
       " [118, [0], 0.31188511236859934],\n",
       " [53, [0], 0.31188511236859934],\n",
       " [35, [0], 0.31188511236859934],\n",
       " [170, [35, 62], 0.0891100321053141]]"
      ]
     },
     "execution_count": 28,
     "metadata": {},
     "output_type": "execute_result"
    }
   ],
   "source": [
    "# the index creates a dic with each word as a KEY and a list of doc indexs, word positions, and td-idf score as VALUES\n",
    "worddic['cafe']"
   ]
  },
  {
   "cell_type": "code",
   "execution_count": 29,
   "metadata": {
    "_cell_guid": "f3feacc8-3d89-4df2-bc1c-9d4cd9cf5105",
    "_uuid": "ff4c978c-df22-48cc-9ec2-5a6a4417a3c3"
   },
   "outputs": [],
   "source": [
    "# pickel (save) the dictonary to avoid re-calculating\n",
    "np.save('worddic_1000.npy', worddic)"
   ]
  },
  {
   "cell_type": "markdown",
   "metadata": {
    "_cell_guid": "1ad48e8a-03fc-457b-8638-25b3366edc87",
    "_uuid": "b6bf2f41-f906-48a8-b9ee-acfc46210cde"
   },
   "source": [
    "#  The Search Engine"
   ]
  },
  {
   "cell_type": "code",
   "execution_count": 30,
   "metadata": {},
   "outputs": [],
   "source": [
    "# create word search which takes multiple words and finds documents that contain both along with metrics for ranking:\n",
    "\n",
    "    ## (1) Number of occruances of search words \n",
    "    ## (2) TD-IDF score for search words \n",
    "    ## (3) Percentage of search terms\n",
    "    ## (4) Word ordering score \n",
    "    ## (5) Exact match bonus "
   ]
  },
  {
   "cell_type": "code",
   "execution_count": 31,
   "metadata": {
    "_cell_guid": "d410d869-57a2-44f0-aab4-5d1c28af7a3b",
    "_uuid": "9ce9dbcc-f2cf-4424-a472-1cd5cc737e58"
   },
   "outputs": [],
   "source": [
    "# create word search which takes multiple words and finds documents that contain both along with metrics for ranking:\n",
    "\n",
    "    ## (1) Number of occruances of search words \n",
    "    ## (2) TD-IDF score for search words \n",
    "    ## (3) Percentage of search terms\n",
    "    ## (4) Word ordering score \n",
    "    ## (5) Exact match bonus \n",
    "\n",
    "\n",
    "from collections import Counter\n",
    "\n",
    "def search(searchsentence):\n",
    "    try:\n",
    "        # split sentence into individual words \n",
    "        searchsentence = searchsentence.lower()\n",
    "        try:\n",
    "            words = searchsentence.split(' ')\n",
    "        except:\n",
    "            words = list(words)\n",
    "        enddic = {}\n",
    "        idfdic = {}\n",
    "        closedic = {}\n",
    "        \n",
    "        # remove words if not in worddic \n",
    "        realwords = []\n",
    "        for word in words:\n",
    "            if word in list(worddic.keys()):\n",
    "                realwords.append(word)  \n",
    "        words = realwords\n",
    "       \n",
    "        numwords = len(words)\n",
    "        \n",
    "        # make metric of number of occurances of all words in each doc & largest total IDF \n",
    "        for word in words:\n",
    "            for indpos in worddic[word]:\n",
    "                index = indpos[0]\n",
    "                amount = len(indpos[1])\n",
    "                idfscore = indpos[2]\n",
    "                enddic[index] = amount\n",
    "                idfdic[index] = idfscore\n",
    "                fullcount_order = sorted(enddic.items(), key=lambda x:x[1], reverse=True)\n",
    "                fullidf_order = sorted(idfdic.items(), key=lambda x:x[1], reverse=True)\n",
    "\n",
    "                \n",
    "                \n",
    "        # make metric of what percentage of words appear in each doc\n",
    "        combo = []\n",
    "        alloptions = {k: worddic.get(k, None) for k in (words)}\n",
    "        for worddex in list(alloptions.values()):\n",
    "            for indexpos in worddex:\n",
    "                for indexz in indexpos:\n",
    "                    combo.append(indexz)\n",
    "        comboindex = combo[::3]\n",
    "        combocount = Counter(comboindex)\n",
    "        for key in combocount:\n",
    "            combocount[key] = combocount[key] / numwords\n",
    "        combocount_order = sorted(combocount.items(), key=lambda x:x[1], reverse=True)\n",
    "       \n",
    "        \n",
    "        # make metric for if words appear in same order as in search\n",
    "        if len(words) > 1:\n",
    "            x = []\n",
    "            y = []\n",
    "            for record in [worddic[z] for z in words]:\n",
    "                for index in record:\n",
    "                     x.append(index[0])\n",
    "            for i in x:\n",
    "                if x.count(i) > 1:\n",
    "                    y.append(i)\n",
    "            y = list(set(y))\n",
    "\n",
    "            closedic = {}\n",
    "            for wordbig in [worddic[x] for x in words]:\n",
    "                for record in wordbig:\n",
    "                    if record[0] in y:\n",
    "                        index = record[0]\n",
    "                        positions = record[1]\n",
    "                        try:\n",
    "                            closedic[index].append(positions)\n",
    "                        except:\n",
    "                            closedic[index] = []\n",
    "                            closedic[index].append(positions)\n",
    "\n",
    "            x = 0\n",
    "            fdic = {}\n",
    "            for index in y:\n",
    "                csum = []\n",
    "                for seqlist in closedic[index]:\n",
    "                    while x > 0:\n",
    "                        secondlist = seqlist\n",
    "                        x = 0\n",
    "                        sol = [1 for i in firstlist if i + 1 in secondlist]\n",
    "                        csum.append(sol)\n",
    "                        fsum = [item for sublist in csum for item in sublist]\n",
    "                        fsum = sum(fsum)\n",
    "                        fdic[index] = fsum\n",
    "                        fdic_order = sorted(fdic.items(), key=lambda x:x[1], reverse=True)\n",
    "                    while x == 0:\n",
    "                        firstlist = seqlist\n",
    "                        x = x + 1\n",
    "        else:\n",
    "            fdic_order = 0\n",
    "                    \n",
    "        # also the one above should be given a big boost if ALL found together \n",
    "           \n",
    "        \n",
    "        #could make another metric for if they are not next to each other but still close \n",
    "        \n",
    "        \n",
    "        return(searchsentence,words,fullcount_order,combocount_order,fullidf_order,fdic_order)\n",
    "    \n",
    "    except:\n",
    "        return(\"\")\n",
    "\n",
    "\n",
    "search('china daily says what')\n",
    "result2 = search('indonesia crude palm oil')\n",
    "result3 = search('price of nickel')\n",
    "result4 = search('north yemen sugar')\n",
    "result5 = search('nippon steel')\n",
    "result6 = search('China')\n",
    "result7 = search('Gold')\n",
    "result8 = search('trade')"
   ]
  },
  {
   "cell_type": "code",
   "execution_count": 32,
   "metadata": {},
   "outputs": [
    {
     "name": "stdout",
     "output_type": "stream",
     "text": [
      "---- > return will give back the search term for *niche jardins cafe Mancel* in 1-12 docs \n"
     ]
    }
   ],
   "source": [
    "print('---- > return will give back the search term for *niche jardins cafe Mancel* in 1-12 docs ')"
   ]
  },
  {
   "cell_type": "code",
   "execution_count": 33,
   "metadata": {
    "_cell_guid": "56c7880a-c2d9-4082-90ce-ed2f9afd1d61",
    "_uuid": "d431f7a8-e526-434c-bf51-56a7c95004d7"
   },
   "outputs": [
    {
     "data": {
      "text/plain": [
       "['jardins', 'cafe', 'mancel']"
      ]
     },
     "execution_count": 33,
     "metadata": {},
     "output_type": "execute_result"
    }
   ],
   "source": [
    "# 0 return will give back the search term, the rest will give back metrics (see above)\n",
    "\n",
    "search('niche jardins cafe Mancel')[1][1:12]"
   ]
  },
  {
   "cell_type": "code",
   "execution_count": 34,
   "metadata": {},
   "outputs": [
    {
     "name": "stdout",
     "output_type": "stream",
     "text": [
      "---- > return will give back the search term for *niche jardins cafe Mancel* in all docs \n"
     ]
    }
   ],
   "source": [
    "print('---- > return will give back the search term for *niche jardins cafe Mancel* in all docs ')"
   ]
  },
  {
   "cell_type": "code",
   "execution_count": 35,
   "metadata": {},
   "outputs": [
    {
     "data": {
      "text/plain": [
       "['niche', 'jardins', 'cafe', 'mancel']"
      ]
     },
     "execution_count": 35,
     "metadata": {},
     "output_type": "execute_result"
    }
   ],
   "source": [
    "# 0 return will give back the search term, the rest will give back metrics (see above)\n",
    "\n",
    "search('niche jardins cafe Mancel')[1]"
   ]
  },
  {
   "cell_type": "code",
   "execution_count": 36,
   "metadata": {},
   "outputs": [
    {
     "name": "stdout",
     "output_type": "stream",
     "text": [
      "---- > the search term for *niche jardins cafe Mancel* in all docs with position in dataset \n"
     ]
    }
   ],
   "source": [
    "print('---- > the search term for *niche jardins cafe Mancel* in all docs with position in dataset ')"
   ]
  },
  {
   "cell_type": "code",
   "execution_count": 37,
   "metadata": {},
   "outputs": [
    {
     "data": {
      "text/plain": [
       "('niche jardins cafe mancel',\n",
       " ['niche', 'jardins', 'cafe', 'mancel'],\n",
       " [(170, 2),\n",
       "  (1, 1),\n",
       "  (9, 1),\n",
       "  (11, 1),\n",
       "  (15, 1),\n",
       "  (35, 1),\n",
       "  (53, 1),\n",
       "  (112, 1),\n",
       "  (116, 1),\n",
       "  (118, 1)],\n",
       " [(9, 1.0),\n",
       "  (1, 0.75),\n",
       "  (11, 0.5),\n",
       "  (15, 0.5),\n",
       "  (35, 0.5),\n",
       "  (53, 0.5),\n",
       "  (112, 0.25),\n",
       "  (116, 0.25),\n",
       "  (118, 0.25),\n",
       "  (170, 0.25)],\n",
       " [(35, 0.31188511236859934),\n",
       "  (53, 0.31188511236859934),\n",
       "  (116, 0.31188511236859934),\n",
       "  (118, 0.31188511236859934),\n",
       "  (112, 0.11227864045269577),\n",
       "  (15, 0.09356553371057981),\n",
       "  (170, 0.0891100321053141),\n",
       "  (9, 0.086298206997034),\n",
       "  (11, 0.05728502063913049),\n",
       "  (1, 0.04455501605265705)],\n",
       " [(9, 2), (1, 1), (35, 0), (11, 0), (15, 0), (53, 0)])"
      ]
     },
     "execution_count": 37,
     "metadata": {},
     "output_type": "execute_result"
    }
   ],
   "source": [
    "search('niche jardins cafe Mancel')"
   ]
  },
  {
   "cell_type": "code",
   "execution_count": 38,
   "metadata": {
    "_cell_guid": "460d85f1-d3a2-4ee9-91fb-b61954b842a1",
    "_uuid": "ddbc3375-b861-4e6e-8834-609fd9fa4725"
   },
   "outputs": [
    {
     "data": {
      "text/html": [
       "<div>\n",
       "<style scoped>\n",
       "    .dataframe tbody tr th:only-of-type {\n",
       "        vertical-align: middle;\n",
       "    }\n",
       "\n",
       "    .dataframe tbody tr th {\n",
       "        vertical-align: top;\n",
       "    }\n",
       "\n",
       "    .dataframe thead th {\n",
       "        text-align: right;\n",
       "    }\n",
       "</style>\n",
       "<table border=\"1\" class=\"dataframe\">\n",
       "  <thead>\n",
       "    <tr style=\"text-align: right;\">\n",
       "      <th></th>\n",
       "      <th>search term</th>\n",
       "      <th>actual_words_searched</th>\n",
       "      <th>num_occur</th>\n",
       "      <th>percentage_of_terms</th>\n",
       "      <th>td-idf</th>\n",
       "      <th>word_order</th>\n",
       "    </tr>\n",
       "  </thead>\n",
       "  <tbody>\n",
       "    <tr>\n",
       "      <td>0</td>\n",
       "      <td>caen petit cafe mancel</td>\n",
       "      <td>[caen, cafe, mancel]</td>\n",
       "      <td>[(14, 2), (170, 2), (1, 1), (6, 1), (7, 1), (9...</td>\n",
       "      <td>[(11, 1.3333333333333333), (15, 1.333333333333...</td>\n",
       "      <td>[(35, 0.31188511236859934), (53, 0.31188511236...</td>\n",
       "      <td>[(35, 1), (9, 1), (1, 0), (6, 0), (7, 0), (11,...</td>\n",
       "    </tr>\n",
       "    <tr>\n",
       "      <td>1</td>\n",
       "      <td>niche ville cafe mancel</td>\n",
       "      <td>[niche, cafe, mancel]</td>\n",
       "      <td>[(170, 2), (1, 1), (9, 1), (11, 1), (15, 1), (...</td>\n",
       "      <td>[(9, 1.0), (1, 0.6666666666666666), (11, 0.666...</td>\n",
       "      <td>[(35, 0.31188511236859934), (53, 0.31188511236...</td>\n",
       "      <td>[(9, 1), (1, 0), (35, 0), (11, 0), (15, 0), (5...</td>\n",
       "    </tr>\n",
       "    <tr>\n",
       "      <td>2</td>\n",
       "      <td>niche jardins</td>\n",
       "      <td>[niche, jardins]</td>\n",
       "      <td>[(1, 1), (9, 1)]</td>\n",
       "      <td>[(1, 1.0), (9, 1.0)]</td>\n",
       "      <td>[(1, 0.07537464523167184), (9, 0.0753746452316...</td>\n",
       "      <td>[(1, 1), (9, 1)]</td>\n",
       "    </tr>\n",
       "    <tr>\n",
       "      <td>3</td>\n",
       "      <td>park mancel</td>\n",
       "      <td>[mancel]</td>\n",
       "      <td>[(9, 1)]</td>\n",
       "      <td>[(9, 1.0)]</td>\n",
       "      <td>[(9, 0.086298206997034)]</td>\n",
       "      <td>0</td>\n",
       "    </tr>\n",
       "    <tr>\n",
       "      <td>4</td>\n",
       "      <td>jardins</td>\n",
       "      <td>[jardins]</td>\n",
       "      <td>[(1, 1), (9, 1)]</td>\n",
       "      <td>[(1, 1.0), (9, 1.0)]</td>\n",
       "      <td>[(1, 0.07537464523167184), (9, 0.0753746452316...</td>\n",
       "      <td>0</td>\n",
       "    </tr>\n",
       "    <tr>\n",
       "      <td>5</td>\n",
       "      <td>restaurant</td>\n",
       "      <td>[restaurant]</td>\n",
       "      <td>[(181, 2), (207, 2), (1, 1), (6, 1), (7, 1), (...</td>\n",
       "      <td>[(6, 2.0), (7, 2.0), (8, 2.0), (11, 2.0), (14,...</td>\n",
       "      <td>[(194, 0.21334253029413397), (209, 0.213342530...</td>\n",
       "      <td>0</td>\n",
       "    </tr>\n",
       "    <tr>\n",
       "      <td>6</td>\n",
       "      <td>cafe</td>\n",
       "      <td>[cafe]</td>\n",
       "      <td>[(170, 2), (1, 1), (9, 1), (11, 1), (15, 1), (...</td>\n",
       "      <td>[(11, 2.0), (15, 2.0), (35, 2.0), (53, 2.0), (...</td>\n",
       "      <td>[(35, 0.31188511236859934), (53, 0.31188511236...</td>\n",
       "      <td>0</td>\n",
       "    </tr>\n",
       "    <tr>\n",
       "      <td>7</td>\n",
       "      <td>None</td>\n",
       "      <td>None</td>\n",
       "      <td>None</td>\n",
       "      <td>None</td>\n",
       "      <td>None</td>\n",
       "      <td>None</td>\n",
       "    </tr>\n",
       "  </tbody>\n",
       "</table>\n",
       "</div>"
      ],
      "text/plain": [
       "               search term  actual_words_searched  \\\n",
       "0   caen petit cafe mancel   [caen, cafe, mancel]   \n",
       "1  niche ville cafe mancel  [niche, cafe, mancel]   \n",
       "2            niche jardins       [niche, jardins]   \n",
       "3              park mancel               [mancel]   \n",
       "4                  jardins              [jardins]   \n",
       "5               restaurant           [restaurant]   \n",
       "6                     cafe                 [cafe]   \n",
       "7                     None                   None   \n",
       "\n",
       "                                           num_occur  \\\n",
       "0  [(14, 2), (170, 2), (1, 1), (6, 1), (7, 1), (9...   \n",
       "1  [(170, 2), (1, 1), (9, 1), (11, 1), (15, 1), (...   \n",
       "2                                   [(1, 1), (9, 1)]   \n",
       "3                                           [(9, 1)]   \n",
       "4                                   [(1, 1), (9, 1)]   \n",
       "5  [(181, 2), (207, 2), (1, 1), (6, 1), (7, 1), (...   \n",
       "6  [(170, 2), (1, 1), (9, 1), (11, 1), (15, 1), (...   \n",
       "7                                               None   \n",
       "\n",
       "                                 percentage_of_terms  \\\n",
       "0  [(11, 1.3333333333333333), (15, 1.333333333333...   \n",
       "1  [(9, 1.0), (1, 0.6666666666666666), (11, 0.666...   \n",
       "2                               [(1, 1.0), (9, 1.0)]   \n",
       "3                                         [(9, 1.0)]   \n",
       "4                               [(1, 1.0), (9, 1.0)]   \n",
       "5  [(6, 2.0), (7, 2.0), (8, 2.0), (11, 2.0), (14,...   \n",
       "6  [(11, 2.0), (15, 2.0), (35, 2.0), (53, 2.0), (...   \n",
       "7                                               None   \n",
       "\n",
       "                                              td-idf  \\\n",
       "0  [(35, 0.31188511236859934), (53, 0.31188511236...   \n",
       "1  [(35, 0.31188511236859934), (53, 0.31188511236...   \n",
       "2  [(1, 0.07537464523167184), (9, 0.0753746452316...   \n",
       "3                           [(9, 0.086298206997034)]   \n",
       "4  [(1, 0.07537464523167184), (9, 0.0753746452316...   \n",
       "5  [(194, 0.21334253029413397), (209, 0.213342530...   \n",
       "6  [(35, 0.31188511236859934), (53, 0.31188511236...   \n",
       "7                                               None   \n",
       "\n",
       "                                          word_order  \n",
       "0  [(35, 1), (9, 1), (1, 0), (6, 0), (7, 0), (11,...  \n",
       "1  [(9, 1), (1, 0), (35, 0), (11, 0), (15, 0), (5...  \n",
       "2                                   [(1, 1), (9, 1)]  \n",
       "3                                                  0  \n",
       "4                                                  0  \n",
       "5                                                  0  \n",
       "6                                                  0  \n",
       "7                                               None  "
      ]
     },
     "execution_count": 38,
     "metadata": {},
     "output_type": "execute_result"
    }
   ],
   "source": [
    "# save metrics to dataframe for use in ranking \n",
    "result1 = search('caen petit cafe Mancel')\n",
    "result2 = search('niche ville cafe Mancel')\n",
    "result3 = search('niche jardins')\n",
    "result4 = search('park Mancel')\n",
    "result5 = search('jardins')\n",
    "result6 = search('restaurant')\n",
    "result7 = search('cafe')\n",
    "result8 = search('idc')\n",
    "df = pd.DataFrame([result1,result2,result3,result4,result5,result6,result7,result8])\n",
    "df.columns = ['search term', 'actual_words_searched','num_occur','percentage_of_terms','td-idf','word_order']\n",
    "df"
   ]
  },
  {
   "cell_type": "code",
   "execution_count": 39,
   "metadata": {},
   "outputs": [
    {
     "name": "stdout",
     "output_type": "stream",
     "text": [
      "---- > return a doc list number 1 as exemple here alldocslist[1]\n"
     ]
    }
   ],
   "source": [
    "print('---- > return a doc list number 1 as exemple here alldocslist[1]')"
   ]
  },
  {
   "cell_type": "code",
   "execution_count": 40,
   "metadata": {
    "_cell_guid": "791d8c78-60e3-40be-926e-01f49f8f8ded",
    "_uuid": "f5865f7e-83f2-4031-98ba-4e62e08e72a6"
   },
   "outputs": [
    {
     "data": {
      "text/plain": [
       "'Cafe caen\\n  https://www.pagesjaunes.fr/pros/detail?bloc_id=0231866364071615730001C0001\\n  Niche dans les jardins de la cour intĂŠrieure du chateau de Caen et communicant avec le Musee des Beaux Arts notre restaurant avec terrasse vous fait partager des soirees musicales  Vous dĂŠgusterez une cuisine actuelle et gastronomique Les suggestions du chef sont  la cocotte de SaintJacques  endives et emulsion de mandarines a 1050 Euro le croquant de caille avec salade champignons et son jus aux airelles a 12 Euro et la terrine de foie gras de canard a 14 Euro En plat retrouvez notre spĂŠcialitĂŠ  la tripe de Caen   Retrouveznous sur notre site internet et notre page Facebook \\n'"
      ]
     },
     "execution_count": 40,
     "metadata": {},
     "output_type": "execute_result"
    }
   ],
   "source": [
    "# look to see if the top documents seem to make sense\n",
    "\n",
    "alldocslist[1]"
   ]
  },
  {
   "cell_type": "markdown",
   "metadata": {
    "_cell_guid": "0140174c-e4ce-4093-b1da-b082c140fa6d",
    "_uuid": "ca9646cb-19f1-42e1-b927-6b51267bc01a"
   },
   "source": [
    "#  Rank and return "
   ]
  },
  {
   "cell_type": "code",
   "execution_count": 41,
   "metadata": {},
   "outputs": [
    {
     "name": "stdout",
     "output_type": "stream",
     "text": [
      "---- > create a Rank With Same Rules :   \n"
     ]
    }
   ],
   "source": [
    "print('---- > create a Rank With Same Rules :   ')"
   ]
  },
  {
   "cell_type": "code",
   "execution_count": 42,
   "metadata": {},
   "outputs": [
    {
     "name": "stdout",
     "output_type": "stream",
     "text": [
      "---- > rule1: if high word order score & 100% percentage terms then put at top position\n"
     ]
    }
   ],
   "source": [
    "print('---- > rule1: if high word order score & 100% percentage terms then put at top position')"
   ]
  },
  {
   "cell_type": "code",
   "execution_count": 43,
   "metadata": {},
   "outputs": [
    {
     "name": "stdout",
     "output_type": "stream",
     "text": [
      "---- > rule2: next add other word order score which are greater than 1 \n"
     ]
    }
   ],
   "source": [
    "print('---- > rule2: next add other word order score which are greater than 1 ')"
   ]
  },
  {
   "cell_type": "code",
   "execution_count": 44,
   "metadata": {},
   "outputs": [
    {
     "name": "stdout",
     "output_type": "stream",
     "text": [
      "---- > rule3: next add top td-idf results\n"
     ]
    }
   ],
   "source": [
    "print('---- > rule3: next add top td-idf results')"
   ]
  },
  {
   "cell_type": "code",
   "execution_count": 45,
   "metadata": {},
   "outputs": [
    {
     "name": "stdout",
     "output_type": "stream",
     "text": [
      "---- > rule4: next add other high percentage score\n"
     ]
    }
   ],
   "source": [
    "print('---- > rule4: next add other high percentage score')"
   ]
  },
  {
   "cell_type": "code",
   "execution_count": 46,
   "metadata": {},
   "outputs": [
    {
     "name": "stdout",
     "output_type": "stream",
     "text": [
      "---- > rule5: next add any other top results for metrics\n"
     ]
    }
   ],
   "source": [
    "print('---- > rule5: next add any other top results for metrics')"
   ]
  },
  {
   "cell_type": "code",
   "execution_count": 47,
   "metadata": {
    "_cell_guid": "04e21d0f-5ebf-473a-b479-904c809b983b",
    "_uuid": "818f6aba-d4aa-4324-a448-d6d1f80e0793"
   },
   "outputs": [],
   "source": [
    "# create a simple (non-machine learning) rank and return function\n",
    "\n",
    "def rank(term):\n",
    "    results = search(term)\n",
    "\n",
    "    # get metrics \n",
    "    num_score = results[2]\n",
    "    per_score = results[3]\n",
    "    tfscore = results[4]\n",
    "    order_score = results[5]\n",
    "    \n",
    "    \n",
    "    final_candidates = []\n",
    "\n",
    "    # rule1: if high word order score & 100% percentage terms then put at top position\n",
    "    try:\n",
    "        first_candidates = []\n",
    "\n",
    "        for candidates in order_score:\n",
    "            if candidates[1] > 1:\n",
    "                first_candidates.append(candidates[0])\n",
    "\n",
    "        second_candidates = []\n",
    "\n",
    "        for match_candidates in per_score:\n",
    "            if match_candidates[1] == 1:\n",
    "                second_candidates.append(match_candidates[0])\n",
    "            if match_candidates[1] == 1 and match_candidates[0] in first_candidates:\n",
    "                final_candidates.append(match_candidates[0])\n",
    "\n",
    "    # rule2: next add other word order score which are greater than 1 \n",
    "\n",
    "        t3_order = first_candidates[0:3]\n",
    "        for each in t3_order:\n",
    "            if each not in final_candidates:\n",
    "                final_candidates.insert(len(final_candidates),each)\n",
    "\n",
    "    # rule3: next add top td-idf results\n",
    "        final_candidates.insert(len(final_candidates),tfscore[0][0])\n",
    "        final_candidates.insert(len(final_candidates),tfscore[1][0])\n",
    "\n",
    "    # rule4: next add other high percentage score \n",
    "        t3_per = second_candidates[0:3]\n",
    "        for each in t3_per:\n",
    "            if each not in final_candidates:\n",
    "                final_candidates.insert(len(final_candidates),each)\n",
    "\n",
    "    #rule5: next add any other top results for metrics\n",
    "        othertops = [num_score[0][0],per_score[0][0],tfscore[0][0],order_score[0][0]]\n",
    "        for top in othertops:\n",
    "            if top not in final_candidates:\n",
    "                final_candidates.insert(len(final_candidates),top)\n",
    "                \n",
    "    # unless single term searched, in which case just return \n",
    "    except:\n",
    "        othertops = [num_score[0][0],num_score[1][0],num_score[2][0],per_score[0][0],tfscore[0][0]]\n",
    "        for top in othertops:\n",
    "            if top not in final_candidates:\n",
    "                final_candidates.insert(len(final_candidates),top)\n",
    "\n",
    "    for index, results in enumerate(final_candidates):\n",
    "        if index < 5:\n",
    "            print(\"RESULT\", index + 1, \":\", alldocslist[results][0:100],\"...\")"
   ]
  },
  {
   "cell_type": "code",
   "execution_count": 48,
   "metadata": {},
   "outputs": [
    {
     "name": "stdout",
     "output_type": "stream",
     "text": [
      "---- > rank as Exemple - search :cafe caen\n"
     ]
    }
   ],
   "source": [
    "print('---- > rank as Exemple - search :cafe caen')"
   ]
  },
  {
   "cell_type": "code",
   "execution_count": 49,
   "metadata": {
    "_cell_guid": "b3df255d-6613-4084-86f0-4c634cea1e23",
    "_uuid": "c9049cd3-3a9e-4035-a6a4-c18c5a9b4bd5"
   },
   "outputs": [
    {
     "name": "stdout",
     "output_type": "stream",
     "text": [
      "RESULT 1 : Cafe Mango\n",
      "  https://www.pagesjaunes.fr/pros/detail?bloc_id=07940672700001C0001\n",
      "  []\n",
      " ...\n",
      "RESULT 2 : Cafe Latin\n",
      "  https://www.pagesjaunes.fr/pros/detail?bloc_id=023185263600000000C0001\n",
      "  []\n",
      " ...\n",
      "RESULT 3 : Cafe caen\n",
      "  https://www.pagesjaunes.fr/pros/detail?bloc_id=0231866364071615730001C0001\n",
      "  Niche dans  ...\n",
      "RESULT 4 : Cafe Mancel\n",
      "  https://www.pagesjaunes.fr/pros/detail?bloc_id=0231866364071615730001C0001\n",
      "  Niche dan ...\n",
      "RESULT 5 : Cafe de Caen\n",
      "  https://www.pagesjaunes.fr/pros/detail?bloc_id=00332394000002C0001\n",
      "  Venez decouvrir  ...\n"
     ]
    }
   ],
   "source": [
    "# example of output \n",
    "rank('cafe caen')"
   ]
  },
  {
   "cell_type": "code",
   "execution_count": 50,
   "metadata": {},
   "outputs": [
    {
     "name": "stdout",
     "output_type": "stream",
     "text": [
      "---- > rank as Exemple - search :restaurant\n"
     ]
    }
   ],
   "source": [
    "print('---- > rank as Exemple - search :restaurant')"
   ]
  },
  {
   "cell_type": "code",
   "execution_count": 51,
   "metadata": {
    "_cell_guid": "03a1c7c7-7662-4a2f-872f-98e4e91fdbf9",
    "_uuid": "427f9a4c-6801-4adf-beeb-d89651d9ad88"
   },
   "outputs": [
    {
     "name": "stdout",
     "output_type": "stream",
     "text": [
      "RESULT 1 : Au Siecle or\n",
      "  https://www.pagesjaunes.fr/pros/detail?bloc_id=0231858989559689650001C0001\n",
      "  Restaura ...\n",
      "RESULT 2 : Gibus Restaurant\n",
      "  https://www.pagesjaunes.fr/pros/detail?bloc_id=51352137000001C0001\n",
      "  Dans un cadr ...\n",
      "RESULT 3 : Cafe caen\n",
      "  https://www.pagesjaunes.fr/pros/detail?bloc_id=0231866364071615730001C0001\n",
      "  Niche dans  ...\n",
      "RESULT 4 : L'Oriental Couscous\n",
      "  https://www.pagesjaunes.fr/pros/detail?bloc_id=0231343536086288620002C0001\n",
      "  N ...\n",
      "RESULT 5 : Restaurant Woumayi\n",
      "  https://www.pagesjaunes.fr/pros/detail?bloc_id=023123253800000000C0001\n",
      "  []\n",
      " ...\n"
     ]
    }
   ],
   "source": [
    "# example of output \n",
    "rank('restaurant')"
   ]
  },
  {
   "cell_type": "code",
   "execution_count": 52,
   "metadata": {},
   "outputs": [
    {
     "data": {
      "image/png": "[encoded data removed]",
      "text/plain": [
       "<IPython.core.display.Image object>"
      ]
     },
     "execution_count": 52,
     "metadata": {},
     "output_type": "execute_result"
    }
   ],
   "source": [
    "from IPython.display import Image\n",
    "Image(filename='logo.png')"
   ]
  },
  {
   "cell_type": "markdown",
   "metadata": {
    "_cell_guid": "ce63bb87-8f69-487b-a0db-788bb731bfe3",
    "_uuid": "44a1e2e1-64e3-441c-9529-c245663a1fe5"
   },
   "source": [
    "<h1><center>Hello, What Are You Looking For !</center></h1>\n"
   ]
  },
  {
   "cell_type": "code",
   "execution_count": null,
   "metadata": {
    "_cell_guid": "2e0a1602-4440-47bb-8e6d-8057117e5c28",
    "_uuid": "14600a24-27ad-423b-a7ae-4b02541b18b3"
   },
   "outputs": [],
   "source": []
  },
  {
   "cell_type": "code",
   "execution_count": 62,
   "metadata": {
    "_cell_guid": "5c2dec68-3634-4827-bb2a-b7c13202b076",
    "_uuid": "cb788761-0aae-4850-b3b6-b706b678086b",
    "scrolled": true
   },
   "outputs": [
    {
     "name": "stdout",
     "output_type": "stream",
     "text": [
      "search: restaurant burger\n",
      "RESULT 1 : L'atelier Du Burger\n",
      "  https://www.pagesjaunes.fr/pros/detail?bloc_id=023139550355828204H001C0001\n",
      "  [ ...\n",
      "RESULT 2 : Restaurant Woumayi\n",
      "  https://www.pagesjaunes.fr/pros/detail?bloc_id=023123253800000000C0001\n",
      "  []\n",
      " ...\n",
      "RESULT 3 : L'Oriental Couscous\n",
      "  https://www.pagesjaunes.fr/pros/detail?bloc_id=0231343536086288620002C0001\n",
      "  N ...\n",
      "RESULT 4 : McDonals Caen Cote De Nacre\n",
      "  https://www.pagesjaunes.fr/pros/detail?bloc_id=0231942525069252490001C ...\n",
      "RESULT 5 : Aux Casseroles qui chantent\n",
      "  https://www.pagesjaunes.fr/pros/detail?bloc_id=0231721894541860210001C ...\n",
      "no results found\n"
     ]
    }
   ],
   "source": [
    "\n",
    "term = input(\"search: \")\n",
    "try:\n",
    "    result = rank(term).center(50)\n",
    "    result\n",
    "    feedback = input(\"were these articles helpful?, (Y/N): \")\n",
    "    if feedback == \"Y\":\n",
    "        np.save('correct_search.npy', worddic) \n",
    "    elif feedback == \"exit\":\n",
    "            print(\"sorry it was not helpful, try again\")\n",
    "        \n",
    "except:\n",
    "    print(\"no results found\")"
   ]
  },
  {
   "cell_type": "markdown",
   "metadata": {
    "_cell_guid": "2a363efe-623e-4ef3-82e7-d9a39bddf1a3",
    "_uuid": "23aea6d8-45f5-4966-8213-56de4f4cdcac"
   },
   "source": [
    " Kamal MAHFOUDI & Omaima AJJAJI - IDC - 2019/2020"
   ]
  },
  {
   "cell_type": "code",
   "execution_count": null,
   "metadata": {},
   "outputs": [],
   "source": []
  },
  {
   "cell_type": "code",
   "execution_count": null,
   "metadata": {},
   "outputs": [],
   "source": []
  },
  {
   "cell_type": "code",
   "execution_count": null,
   "metadata": {},
   "outputs": [],
   "source": []
  }
 ],
 "metadata": {
  "kernelspec": {
   "display_name": "Python 3",
   "language": "python",
   "name": "python3"
  },
  "language_info": {
   "codemirror_mode": {
    "name": "ipython",
    "version": 3
   },
   "file_extension": ".py",
   "mimetype": "text/x-python",
   "name": "python",
   "nbconvert_exporter": "python",
   "pygments_lexer": "ipython3",
   "version": "3.7.4"
  }
 },
 "nbformat": 4,
 "nbformat_minor": 1
}
